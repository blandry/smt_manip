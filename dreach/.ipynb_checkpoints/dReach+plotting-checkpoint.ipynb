{
 "cells": [
  {
   "cell_type": "code",
   "execution_count": 1,
   "metadata": {
    "collapsed": true
   },
   "outputs": [],
   "source": [
    "%matplotlib inline\n",
    "import json\n",
    "import matplotlib.pyplot as plt\n",
    "import numpy as np"
   ]
  },
  {
   "cell_type": "code",
   "execution_count": 2,
   "metadata": {
    "collapsed": true
   },
   "outputs": [],
   "source": [
    "def plot_box(xr, yr, **kwargs):\n",
    "    return plt.fill([xr[0], xr[1], xr[1], xr[0], xr[0]],\n",
    "                    [yr[0], yr[0], yr[1], yr[1], yr[0]], **kwargs)\n",
    "def plot_dreach_box(box, t0, **kwargs):\n",
    "    return plot_box(t0 + np.array(box[\"time\"]), np.array(box[\"enclosure\"]), **kwargs)"
   ]
  },
  {
   "cell_type": "code",
   "execution_count": 3,
   "metadata": {
    "collapsed": true
   },
   "outputs": [],
   "source": [
    "def plot_dreach(data, var, **kwargs):\n",
    "    t0 = 0\n",
    "    for step in data[\"traces\"]:\n",
    "        if step is None:\n",
    "            continue\n",
    "        vardict = next(x for x in step if x[\"key\"].startswith(var + \"_\"))\n",
    "        boxes = vardict[\"values\"]\n",
    "        for i in range(len(boxes)-1):\n",
    "            boxes[i][\"time\"][1] = boxes[i+1][\"time\"][0]\n",
    "        for box in boxes:\n",
    "            plt_obj, = plot_dreach_box(box, t0, **kwargs)\n",
    "        t0 = t0 + boxes[-1][\"time\"][-1]\n",
    "    return plt_obj\n",
    "\n",
    "def plot_modes(data, **kwargs):\n",
    "    t = [0]\n",
    "    for step in data[\"traces\"]:\n",
    "        if step is None:\n",
    "            t.append(t[-1])\n",
    "            plt.plot([t[-1],t[-1]], [-100,100], **kwargs)\n",
    "            continue\n",
    "        plt.plot([t[-1],t[-1]], [-100,100], **kwargs)\n",
    "        t.append(t[-1] + step[0][\"values\"][-1][\"time\"][-1])\n",
    "    for i in range(len(t)-1):\n",
    "        center = (t[i] + t[i+1]) / 2.0\n",
    "        if data[\"traces\"][i]:\n",
    "            plt.text(center, 1.02*plt.gca().get_ylim()[-1], data[\"traces\"][i][0][\"mode\"], fontsize=30, color=\"green\")"
   ]
  },
  {
   "cell_type": "code",
   "execution_count": 7,
   "metadata": {
    "collapsed": false
   },
   "outputs": [
    {
     "data": {
      "image/png": "[encoded data removed]",
      "text/plain": [
       "<matplotlib.figure.Figure at 0x1048c1e50>"
      ]
     },
     "metadata": {},
     "output_type": "display_data"
    }
   ],
   "source": [
    "with open(\"single_int_4_1.smt2.json\") as f:\n",
    "    data = json.loads(f.read())\n",
    "\n",
    "plt.figure(figsize=(12,9))\n",
    "plt.xticks(fontsize=20)\n",
    "plt.yticks(fontsize=20)\n",
    "x = plot_dreach(data, \"x\", color=\"red\", alpha=0.3)\n",
    "y = plot_dreach(data, \"y\", color=\"blue\", alpha=0.3)\n",
    "#theta = plot_dreach(data, \"theta\", color=\"yellow\", alpha=0.3)\n",
    "plt.gca().set_autoscale_on(False)\n",
    "plot_modes(data, color=\"black\")\n",
    "#plt.legend([x, y, theta], [\"x\", \"y\", \"theta\"], fontsize=20)\n",
    "plt.legend([x, y], [\"x\", \"y\"], fontsize=20)\n",
    "#plt.savefig(\"manip2.png\")"
   ]
  },
  {
   "cell_type": "code",
   "execution_count": null,
   "metadata": {
    "collapsed": true
   },
   "outputs": [],
   "source": []
  }
 ],
 "metadata": {
  "kernelspec": {
   "display_name": "Python 2",
   "language": "python",
   "name": "python2"
  },
  "language_info": {
   "codemirror_mode": {
    "name": "ipython",
    "version": 2
   },
   "file_extension": ".py",
   "mimetype": "text/x-python",
   "name": "python",
   "nbconvert_exporter": "python",
   "pygments_lexer": "ipython2",
   "version": "2.7.13"
  }
 },
 "nbformat": 4,
 "nbformat_minor": 2
}
