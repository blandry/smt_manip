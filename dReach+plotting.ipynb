{
 "cells": [
  {
   "cell_type": "code",
   "execution_count": 1,
   "metadata": {
    "collapsed": true
   },
   "outputs": [],
   "source": [
    "%matplotlib inline\n",
    "import json\n",
    "import matplotlib.pyplot as plt\n",
    "import numpy as np"
   ]
  },
  {
   "cell_type": "code",
   "execution_count": 2,
   "metadata": {
    "collapsed": true
   },
   "outputs": [],
   "source": [
    "def plot_box(xr, yr, **kwargs):\n",
    "    return plt.fill([xr[0], xr[1], xr[1], xr[0], xr[0]],\n",
    "                    [yr[0], yr[0], yr[1], yr[1], yr[0]], **kwargs)\n",
    "def plot_dreach_box(box, t0, **kwargs):\n",
    "    return plot_box(t0 + np.array(box[\"time\"]), np.array(box[\"enclosure\"]), **kwargs)"
   ]
  },
  {
   "cell_type": "code",
   "execution_count": 3,
   "metadata": {
    "collapsed": true
   },
   "outputs": [],
   "source": [
    "def plot_dreach(data, var, **kwargs):\n",
    "    t0 = 0\n",
    "    for step in data[\"traces\"]:\n",
    "        if step is None:\n",
    "            continue\n",
    "        vardict = next(x for x in step if x[\"key\"].startswith(var + \"_\"))\n",
    "        boxes = vardict[\"values\"]\n",
    "        for i in range(len(boxes)-1):\n",
    "            boxes[i][\"time\"][1] = boxes[i+1][\"time\"][0]\n",
    "        for box in boxes:\n",
    "            plt_obj, = plot_dreach_box(box, t0, **kwargs)\n",
    "        t0 = t0 + boxes[-1][\"time\"][-1]\n",
    "    return plt_obj\n",
    "\n",
    "def plot_modes(data, **kwargs):\n",
    "    t = [0]\n",
    "    for step in data[\"traces\"]:\n",
    "        if step is None:\n",
    "            t.append(t[-1])\n",
    "            plt.plot([t[-1],t[-1]], [-100,100], **kwargs)\n",
    "            continue\n",
    "        plt.plot([t[-1],t[-1]], [-100,100], **kwargs)\n",
    "        t.append(t[-1] + step[0][\"values\"][-1][\"time\"][-1])\n",
    "    for i in range(len(t)-1):\n",
    "        center = (t[i] + t[i+1]) / 2.0\n",
    "        if data[\"traces\"][i]:\n",
    "            plt.text(center, 1.02*plt.gca().get_ylim()[-1], data[\"traces\"][i][0][\"mode\"], fontsize=30, color=\"green\")"
   ]
  },
  {
   "cell_type": "code",
   "execution_count": 5,
   "metadata": {
    "collapsed": false
   },
   "outputs": [
    {
     "data": {
      "image/png": "[encoded data removed]",
      "text/plain": [
       "<matplotlib.figure.Figure at 0x10ce6d890>"
      ]
     },
     "metadata": {},
     "output_type": "display_data"
    }
   ],
   "source": [
    "with open(\"pusher_robot2_4_1.smt2.json\") as f:\n",
    "    data = json.loads(f.read())\n",
    "\n",
    "plt.figure(figsize=(12,9))\n",
    "plt.xticks(fontsize=20)\n",
    "plt.yticks(fontsize=20)\n",
    "x = plot_dreach(data, \"x\", color=\"red\", alpha=0.3)\n",
    "y = plot_dreach(data, \"y\", color=\"blue\", alpha=0.3)\n",
    "theta = plot_dreach(data, \"theta\", color=\"yellow\", alpha=0.3)\n",
    "plt.gca().set_autoscale_on(False)\n",
    "plot_modes(data, color=\"black\")\n",
    "plt.legend([x, y, theta], [\"x\", \"y\", \"theta\"], fontsize=20)\n",
    "plt.savefig(\"manip2.png\")"
   ]
  },
  {
   "cell_type": "code",
   "execution_count": 10,
   "metadata": {
    "collapsed": false
   },
   "outputs": [
    {
     "data": {
      "text/plain": [
       "True"
      ]
     },
     "execution_count": 10,
     "metadata": {},
     "output_type": "execute_result"
    }
   ],
   "source": [
    "data[\"traces\"][0] is None"
   ]
  },
  {
   "cell_type": "code",
   "execution_count": 23,
   "metadata": {
    "collapsed": false
   },
   "outputs": [
    {
     "data": {
      "text/plain": [
       "[{u'enclosure': [0, 0.062521791382725], u'time': [0, 0.10003486621236]},\n",
       " {u'enclosure': [0.0624607349458278, 0.12504358276545],\n",
       "  u'time': [0.10003486621236, 0.20006973242472]},\n",
       " {u'enclosure': [0.124921469891656, 0.187565374148175],\n",
       "  u'time': [0.20006973242472, 0.30010459863708]},\n",
       " {u'enclosure': [0.187382204837484, 0.2500871655309],\n",
       "  u'time': [0.30010459863708, 0.40013946484944]},\n",
       " {u'enclosure': [0.249842939783311, 0.312608956913625],\n",
       "  u'time': [0.40013946484944, 0.5001743310618]},\n",
       " {u'enclosure': [0.312303674729139, 0.37513074829635],\n",
       "  u'time': [0.5001743310618, 0.60020919727416]},\n",
       " {u'enclosure': [0.374764409674967, 0.437652539679075],\n",
       "  u'time': [0.60020919727416, 0.700244063486521]},\n",
       " {u'enclosure': [0.437225144620795, 0.500174331061801],\n",
       "  u'time': [0.700244063486521, 0.800278929698881]},\n",
       " {u'enclosure': [0.499685879566623, 0.562696122444526],\n",
       "  u'time': [0.800278929698881, 0.900313795911241]},\n",
       " {u'enclosure': [0.562146614512451, 0.625217913827251],\n",
       "  u'time': [0.900313795911241, 1.0003486621236]},\n",
       " {u'enclosure': [0.624607349458279, 0.687739705209976],\n",
       "  u'time': [1.0003486621236, 1.10038352833596]},\n",
       " {u'enclosure': [0.687068084404107, 0.750261496592701],\n",
       "  u'time': [1.10038352833596, 1.20041839454832]},\n",
       " {u'enclosure': [0.749528819349935, 0.812783287975426],\n",
       "  u'time': [1.20041839454832, 1.30045326076068]},\n",
       " {u'enclosure': [0.811989554295763, 0.875305079358151],\n",
       "  u'time': [1.30045326076068, 1.40048812697304]},\n",
       " {u'enclosure': [0.874450289241591, 0.937826870740876],\n",
       "  u'time': [1.40048812697304, 1.5005229931854]},\n",
       " {u'enclosure': [0.936911024187418, 1.0003486621236],\n",
       "  u'time': [1.5005229931854, 1.60055785939776]}]"
      ]
     },
     "execution_count": 23,
     "metadata": {},
     "output_type": "execute_result"
    }
   ],
   "source": [
    "data[\"traces\"][1][0][\"values\"]"
   ]
  },
  {
   "cell_type": "code",
   "execution_count": null,
   "metadata": {
    "collapsed": true
   },
   "outputs": [],
   "source": []
  }
 ],
 "metadata": {
  "kernelspec": {
   "display_name": "Python 2",
   "language": "python",
   "name": "python2"
  },
  "language_info": {
   "codemirror_mode": {
    "name": "ipython",
    "version": 2
   },
   "file_extension": ".py",
   "mimetype": "text/x-python",
   "name": "python",
   "nbconvert_exporter": "python",
   "pygments_lexer": "ipython2",
   "version": "2.7.13"
  }
 },
 "nbformat": 4,
 "nbformat_minor": 2
}
